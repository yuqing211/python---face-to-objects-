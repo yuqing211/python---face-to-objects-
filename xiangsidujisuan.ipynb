{
 "cells": [
  {
   "cell_type": "code",
   "execution_count": 1,
   "metadata": {},
   "outputs": [
    {
     "name": "stdout",
     "output_type": "stream",
     "text": [
      "cosine similarity\n",
      "0.5\n",
      "1.0\n",
      "Euler similarity\n",
      "0.12973190755680383\n",
      "1.0\n",
      "pearson similarity\n",
      "0.20596538173840329\n",
      "1.0\n"
     ]
    }
   ],
   "source": [
    "from numpy import *\n",
    "from numpy import linalg as la\n",
    "#import svdRec\n",
    "def loadExData():\n",
    "    return\n",
    "def ecludSim(inA,inB):\n",
    "    return 1.0/(1.0 + la.norm(inA - inB))\n",
    "def pearsSim(inA,inB):\n",
    "    if len(inA) < 3 : return 1.0\n",
    "    return 0.5+0.5*corrcoef(inA, inB, rowvar = 0)[0][1]\n",
    "\n",
    "def cosSim(inA,inB):\n",
    "    num = float(inA.T*inB)\n",
    "    denom = la.norm(inA)*la.norm(inB)\n",
    "    return 0.5+0.5*(num/denom)\n",
    "\n",
    "data=[[0, 0, 0, 2, 2],\n",
    "      [0, 0, 0, 3, 3],\n",
    "      [0, 0, 0, 1, 1],\n",
    "      [1, 1, 1, 0, 0],\n",
    "      [2, 2, 2, 0, 0],\n",
    "      [5, 5, 5, 0, 0],\n",
    "      [1, 1, 1, 0, 0]]\n",
    "myMat=mat(data)\n",
    "print(\"cosine similarity\")\n",
    "print(cosSim(myMat[:,0],myMat[:,4]))\n",
    "print(cosSim(myMat[:,0],myMat[:,0]))\n",
    "print(\"Euler similarity\")\n",
    "print(ecludSim(myMat[:,0],myMat[:,4]))\n",
    "print(ecludSim(myMat[:,0],myMat[:,0]))\n",
    "print(\"pearson similarity\")\n",
    "print(pearsSim(myMat[:,0],myMat[:,4]))\n",
    "print(pearsSim(myMat[:,0],myMat[:,0]))\n"
   ]
  },
  {
   "cell_type": "code",
   "execution_count": 2,
   "metadata": {},
   "outputs": [
    {
     "name": "stdout",
     "output_type": "stream",
     "text": [
      "预测结果： ['C']\n"
     ]
    }
   ],
   "source": [
    "# -*- coding: utf-8 -*-\n",
    "import numpy as np\n",
    "from sklearn import neighbors\n",
    "knn = neighbors.KNeighborsClassifier(1)   #取得 knn 分类器\n",
    "data = np.array([[1.1, 1.5, 1.4, 0.2],\n",
    "                 [1.9, 1.0, 1.4 ,0.2],\n",
    "                 [1.7, 1.2, 1.3, 0.2],\n",
    "                 [2.6, 2.1 ,1.5, 0.2],\n",
    "                 [2.0, 2.6 ,1.4, 0.2]])\n",
    "labels = np.array(['A','B','C','D','E'])\n",
    "knn.fit(data,labels)\n",
    "print(\"预测结果：\",knn.predict(np.array([[1.6, 1.5, 1.2, 0.1]]).reshape(1,-1)))\n"
   ]
  },
  {
   "cell_type": "code",
   "execution_count": null,
   "metadata": {},
   "outputs": [],
   "source": []
  }
 ],
 "metadata": {
  "kernelspec": {
   "display_name": "Python 3",
   "language": "python",
   "name": "python3"
  },
  "language_info": {
   "codemirror_mode": {
    "name": "ipython",
    "version": 3
   },
   "file_extension": ".py",
   "mimetype": "text/x-python",
   "name": "python",
   "nbconvert_exporter": "python",
   "pygments_lexer": "ipython3",
   "version": "3.7.3"
  }
 },
 "nbformat": 4,
 "nbformat_minor": 2
}
