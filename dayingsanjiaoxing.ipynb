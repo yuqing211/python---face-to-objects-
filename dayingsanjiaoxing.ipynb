{
 "cells": [
  {
   "cell_type": "code",
   "execution_count": 7,
   "metadata": {},
   "outputs": [
    {
     "name": "stdout",
     "output_type": "stream",
     "text": [
      "你想打印几边形？请输入\n",
      "5\n"
     ]
    },
    {
     "ename": "NameError",
     "evalue": "name 'triangle_solid1' is not defined",
     "output_type": "error",
     "traceback": [
      "\u001b[1;31m---------------------------------------------------------------------------\u001b[0m",
      "\u001b[1;31mNameError\u001b[0m                                 Traceback (most recent call last)",
      "\u001b[1;32m<ipython-input-7-2a3ce793c9f3>\u001b[0m in \u001b[0;36m<module>\u001b[1;34m\u001b[0m\n\u001b[0;32m     49\u001b[0m             \u001b[0mprint\u001b[0m\u001b[1;33m(\u001b[0m\u001b[1;34m'\\n'\u001b[0m\u001b[1;33m)\u001b[0m\u001b[1;33m\u001b[0m\u001b[1;33m\u001b[0m\u001b[0m\n\u001b[0;32m     50\u001b[0m \u001b[0mnum\u001b[0m \u001b[1;33m=\u001b[0m \u001b[0mint\u001b[0m\u001b[1;33m(\u001b[0m\u001b[0minput\u001b[0m\u001b[1;33m(\u001b[0m\u001b[1;34m'你想打印几边形？请输入\\n'\u001b[0m\u001b[1;33m)\u001b[0m\u001b[1;33m)\u001b[0m\u001b[1;33m\u001b[0m\u001b[1;33m\u001b[0m\u001b[0m\n\u001b[1;32m---> 51\u001b[1;33m \u001b[0mtriangle_solid1\u001b[0m\u001b[1;33m(\u001b[0m\u001b[0mnum\u001b[0m\u001b[1;33m)\u001b[0m\u001b[1;33m\u001b[0m\u001b[1;33m\u001b[0m\u001b[0m\n\u001b[0m\u001b[0;32m     52\u001b[0m \u001b[0mprint\u001b[0m\u001b[1;33m(\u001b[0m\u001b[1;34m'\\n'\u001b[0m\u001b[1;33m)\u001b[0m\u001b[1;33m\u001b[0m\u001b[1;33m\u001b[0m\u001b[0m\n\u001b[0;32m     53\u001b[0m \u001b[0mhollow_solid\u001b[0m\u001b[1;33m(\u001b[0m\u001b[0mnum\u001b[0m\u001b[1;33m)\u001b[0m\u001b[1;33m\u001b[0m\u001b[1;33m\u001b[0m\u001b[0m\n",
      "\u001b[1;31mNameError\u001b[0m: name 'triangle_solid1' is not defined"
     ]
    }
   ],
   "source": [
    "# 打印三角形\n",
    "#def que4():\n",
    "    # 实心三角形\n",
    "def triangle_solid(num):\n",
    "    for i in range(num):\n",
    "        tab = False\n",
    "        for j in range(i+1):\n",
    "            print('*',end='')\n",
    "            if j == i:\n",
    "                tab = True\n",
    "            if tab:\n",
    "                print('\\n' ,end = '')\n",
    "    # 空心三角形\n",
    "def hollow_solid(num):\n",
    "    for i in range(num):\n",
    "        tab = False\n",
    "        for j in range(i + 1):\n",
    "            # 判断是否最后一行\n",
    "            if i != num-1:\n",
    "                # 循环完成，修改标识符\n",
    "                if j == i :\n",
    "                    tab = True\n",
    "                # 判断打印空格还是*\n",
    "                if (i == j or j == 0):\n",
    "                    print('*',end='')\n",
    "                else :\n",
    "                    print(' ',end='')\n",
    "                # 最后一行，全部打印星号\n",
    "            else:\n",
    "                 print('*', end='')\n",
    "        if tab:\n",
    "            print('\\n', end='')\n",
    " \n",
    "def hollow_solid_new(num):\n",
    "     for i in range(num):\n",
    "         for j in range(i + 1):\n",
    "            # 判断是否最后一行\n",
    "            if i != num-1:\n",
    "                # 判断打印空格还是*\n",
    "                if (i == j or j == 0):\n",
    "                    print('*',end='')\n",
    "                else :\n",
    "                    print(' ',end='')\n",
    " \n",
    "                # 最后一行，全部打印星号\n",
    "            else:\n",
    "                print('*', end='')\n",
    " \n",
    "            print('\\n')\n",
    "num = int(input('你想打印几边形？请输入\\n'))\n",
    "triangle_solid1(num)\n",
    "print('\\n')\n",
    "hollow_solid(num)\n",
    "return '\\n'\n",
    "# que4()\n"
   ]
  },
  {
   "cell_type": "code",
   "execution_count": null,
   "metadata": {},
   "outputs": [],
   "source": []
  }
 ],
 "metadata": {
  "kernelspec": {
   "display_name": "Python 3",
   "language": "python",
   "name": "python3"
  },
  "language_info": {
   "codemirror_mode": {
    "name": "ipython",
    "version": 3
   },
   "file_extension": ".py",
   "mimetype": "text/x-python",
   "name": "python",
   "nbconvert_exporter": "python",
   "pygments_lexer": "ipython3",
   "version": "3.7.3"
  }
 },
 "nbformat": 4,
 "nbformat_minor": 2
}
