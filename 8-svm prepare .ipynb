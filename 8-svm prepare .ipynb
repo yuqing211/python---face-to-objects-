{
 "cells": [
  {
   "cell_type": "code",
   "execution_count": 15,
   "metadata": {},
   "outputs": [
    {
     "name": "stdout",
     "output_type": "stream",
     "text": [
      "w:  [0.90230696 0.64821811]\n",
      "a:  -1.391980476255765\n",
      "support_vectors_:  [[-1.02126202  0.2408932 ]\n",
      " [-0.46722079 -0.53064123]\n",
      " [ 0.95144703  0.57998206]]\n",
      "clf.coef_:  [[0.90230696 0.64821811]]\n"
     ]
    },
    {
     "data": {
      "text/plain": [
       "<Figure size 640x480 with 1 Axes>"
      ]
     },
     "metadata": {},
     "output_type": "display_data"
    }
   ],
   "source": [
    "# -*- coding: utf-8 -*-\n",
    "import numpy as np\n",
    "import pylab as pl\n",
    "from sklearn import svm\n",
    "\n",
    "np.random.seed(0)  # 值固定，每次随机结果不变\n",
    "# 2组20个二维的随机数，20个0，20个1的y  （20，2）20行2列\n",
    "X = np.r_[np.random.randn(20, 2) - [2, 2], np.random.randn(20, 2) + [2, 2]]\n",
    "Y = [0] * 20 + [1] * 20\n",
    "\n",
    "# 训练\n",
    "clf = svm.SVC(kernel='linear')\n",
    "clf.fit(X, Y)\n",
    "\n",
    "\n",
    "w = clf.coef_[0]\n",
    "a = -w[0] / w[1]\n",
    "xx = np.linspace(-5, 5)\n",
    "yy = a * xx - (clf.intercept_[0] / w[1])  # 点斜式 平分的线\n",
    "\n",
    "\n",
    "b = clf.support_vectors_[0]\n",
    "yy_down = a* xx +(b[1] - a*b[0])\n",
    "b = clf.support_vectors_[-1]\n",
    "yy_up = a* xx +(b[1] - a*b[0])  # 两条虚线\n",
    "\n",
    "print( \"w: \", w)\n",
    "print(\"a: \", a)\n",
    "print(\"support_vectors_: \", clf.support_vectors_)\n",
    "print(\"clf.coef_: \", clf.coef_)\n",
    "\n",
    "# plot the line, the points, and the nearest vectors to the plane\n",
    "pl.plot(xx, yy, 'k-')\n",
    "pl.plot(xx, yy_down, 'k--')\n",
    "pl.plot(xx, yy_up, 'k--')\n",
    "\n",
    "pl.scatter(clf.support_vectors_[:, 0], clf.support_vectors_[:, 1],\n",
    "           s=80, facecolors='none')\n",
    "pl.scatter(X[:, 0], X[:, 1], c=Y, cmap=pl.cm.Paired)\n",
    "\n",
    "pl.axis('tight')\n",
    "pl.show()"
   ]
  },
  {
   "cell_type": "code",
   "execution_count": null,
   "metadata": {},
   "outputs": [],
   "source": [
    "# -*- coding: utf-8 -*-\n",
    "from sklearn import svm\n",
    "\n",
    "# 数据\n",
    "x = [[2, 0], [1, 1], [2, 3]]\n",
    "# 标签\n",
    "y = [0, 0, 1]\n",
    "# 线性可分的svm分类器，用线性的核函数\n",
    "clf = svm.SVC(kernel='linear')\n",
    "# 训练\n",
    "clf.fit(x, y)\n",
    "print(clf)\n",
    "\n",
    "# 获得支持向量\n",
    "print(clf.support_vectors_)\n",
    "\n",
    "# 获得支持向量点在原数据中的下标\n",
    "print(clf.support_)\n",
    "\n",
    "# 获得每个类支持向量的个数\n",
    "print(clf.n_support_)\n",
    "\n",
    "# 预测\n",
    "print(clf.predict([2, 0]))\n"
   ]
  }
 ],
 "metadata": {
  "kernelspec": {
   "display_name": "Python 3",
   "language": "python",
   "name": "python3"
  },
  "language_info": {
   "codemirror_mode": {
    "name": "ipython",
    "version": 3
   },
   "file_extension": ".py",
   "mimetype": "text/x-python",
   "name": "python",
   "nbconvert_exporter": "python",
   "pygments_lexer": "ipython3",
   "version": "3.7.3"
  }
 },
 "nbformat": 4,
 "nbformat_minor": 2
}
