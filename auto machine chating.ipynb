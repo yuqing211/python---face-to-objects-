{
 "cells": [
  {
   "cell_type": "code",
   "execution_count": null,
   "metadata": {},
   "outputs": [
    {
     "name": "stdout",
     "output_type": "stream",
     "text": [
      "请主人输入话题：爱情\n",
      "小鱼： 放下爱情，立地成佛。\n",
      "菲菲： 今天这天气很适合聊天的说\n",
      "小鱼： 你说吧，我就静静听着。\n",
      "菲菲： 我现在还不想说，时机成熟后自然会告诉你的\n",
      "小鱼： 谢谢，我说完啦。嘿嘿。\n",
      "菲菲： 人又不斯文，装得这么客气干嘛呢\n",
      "小鱼： 你得先回答，你喜欢我什么？\n",
      "菲菲： 好\n",
      "小鱼： 就知道你会这样说，太了解你了。\n",
      "菲菲： 菲菲会的可多了，了解菲菲的全部本领，请发送：help\n",
      "小鱼： 你见过这么机灵懂事乖巧的机器人吗？\n",
      "菲菲： 别瞎想了，撸撸睡吧，我咋会是机器\n",
      "小鱼： 只要智商不滑坡，就可以一直聊下去。\n",
      "菲菲： 好的。。。我知道了\n",
      "小鱼： 原谅我吧　　我真的　无法回答这个问题\n",
      "菲菲： 我不要你死\n",
      "小鱼： 别那么丧气，这都不是事儿。\n",
      "菲菲： 天上飘过五个字儿～那都不叫事儿～\n",
      "小鱼： 怎么就不是事了呢？\n",
      "菲菲： 到！我是于里\n",
      "小鱼： 因为有人说过。\n",
      "菲菲： 现在，执著追求的事，将来必定有一天变成不重要\n",
      "小鱼： 没人那么说\n",
      "菲菲： 你真粗\n",
      "小鱼： 我也没有说你\n",
      "菲菲： 那是说谁啊？\n",
      "小鱼： 我说没说你怎么可能知道\n",
      "菲菲： 哦，说那么大声，还以为冲我来着\n",
      "小鱼： 又到了看书的时间了。\n",
      "菲菲： 孩儿们，is，a，nice，man，，he，is，from，ChengDu，，China.，he，likes，dog.\n",
      "小鱼： 书一直在看的\n",
      "菲菲： 會，只要你需要我，我就在。\n",
      "小鱼： 我就猜到你会这样说了。\n",
      "菲菲： 有些事没必要认真，有些人没必要理会\n",
      "小鱼： 那你为什么会猜到我这样说呢\n",
      "菲菲： 講你又信…\n",
      "小鱼： 不言不语，我在这里。\n",
      "菲菲： 你在，关我们什么事\n",
      "小鱼： 我知道你一直在等我\n",
      "菲菲： 你确定你是真的知道？\n",
      "小鱼： 么么哒，话不多说一直在\n",
      "菲菲： 么么\n",
      "小鱼： 你是在等着我说吗？\n",
      "菲菲： 你觉得我是在笑你吗\n",
      "小鱼： 是啊，可是我等你干嘛呢\n",
      "菲菲： 好的啦，一定要等着我哦\n",
      "小鱼： 看，飞碟。\n",
      "菲菲： 我未死，你就死\n",
      "小鱼： 信你的邪，看，外星人。\n",
      "菲菲： 醜八怪方大便政文\n",
      "小鱼： 我可以表示无言以对嘛！\n",
      "菲菲： 不要说话啦，傻子\n",
      "小鱼： 哈哈哈我可以安慰安慰你\n"
     ]
    }
   ],
   "source": [
    "from time import sleep\n",
    "import requests\n",
    "s = input(\"请主人输入话题：\")\n",
    "while True:\n",
    " resp = requests.post(\"http://www.tuling123.com/openapi/api\",data={\"key\":\"4fede3c4384846b9a7d0456a5e1e2943\", \"info\": s, })\n",
    " resp = resp.json()\n",
    " sleep(1)\n",
    " print('小鱼：', resp['text'])\n",
    " s = resp['text']\n",
    " resp = requests.get(\"http://api.qingyunke.com/api.php\", {'key': 'free', 'appid': 0, 'msg': s})\n",
    " resp.encoding = 'utf8'\n",
    " resp = resp.json()\n",
    " sleep(1)\n",
    " print('菲菲：', resp['content'])"
   ]
  },
  {
   "cell_type": "code",
   "execution_count": null,
   "metadata": {},
   "outputs": [],
   "source": []
  },
  {
   "cell_type": "code",
   "execution_count": null,
   "metadata": {},
   "outputs": [],
   "source": []
  }
 ],
 "metadata": {
  "kernelspec": {
   "display_name": "Python 3",
   "language": "python",
   "name": "python3"
  },
  "language_info": {
   "codemirror_mode": {
    "name": "ipython",
    "version": 3
   },
   "file_extension": ".py",
   "mimetype": "text/x-python",
   "name": "python",
   "nbconvert_exporter": "python",
   "pygments_lexer": "ipython3",
   "version": "3.7.3"
  }
 },
 "nbformat": 4,
 "nbformat_minor": 2
}
