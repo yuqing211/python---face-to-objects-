{
 "cells": [
  {
   "cell_type": "code",
   "execution_count": null,
   "metadata": {},
   "outputs": [
    {
     "name": "stdout",
     "output_type": "stream",
     "text": [
      "请输入感兴趣的话题吧：婚姻\n",
      "小王： 婚姻像围城，外面的人想进去，里面的人想出来。\n",
      "小雪： 婚姻最初是相敬如宾，然后是相敬如冰，最后变成相敬如兵\n",
      "小王： 让我组织组织语言，突然不知道该怎么说了。\n",
      "小雪： 你咋这么笨呢，说什么都要菲菲教你么\n",
      "小王： 最近智商有点下滑，聊的不好多多包涵。\n",
      "小雪： 不好就不好啦，说这么大声是要全世界的人都听到吗\n",
      "小王： 你猜我会说什么？\n",
      "小雪： 菲菲会的可多了，了解菲菲的全部本领，请发送：help\n",
      "小王： 猜不到\n",
      "小雪： 太笨了你，这都猜不出来\n",
      "小王： 你猜的到啦\n",
      "小雪： 最讨厌猜东西，没劲\n",
      "小王： 必须猜得到\n",
      "小雪： 你去照照镜子就明白了\n",
      "小王： 嗯猜就猜啊\n",
      "小雪： 不知道\n",
      "小王： 为什么猜什么呀\n",
      "小雪： 随便猜，猜什么都行\n",
      "小王： 我有点懵，赶紧去查一查。\n",
      "小雪： 狂妄的人有救，自卑的人没救\n",
      "小王： 我就猜到你会这样说了。\n",
      "小雪： 你是不是觉得这日子过得太无聊了哦\n",
      "小王： 那你为什么会猜到我这样说呢\n",
      "小雪： 講你又信…\n",
      "小王： 聊着聊着我就又卡壳了。\n",
      "小雪： 聊着聊着，聊得火花乱崩了~\n",
      "小王： 你说吧，我就静静听着。\n",
      "小雪： 说什么说哦，不想说了\n",
      "小王： 谢谢，我说完啦。嘿嘿。\n",
      "小雪： 那么客气干嘛\n",
      "小王： 聊着聊着我就又卡壳了。\n",
      "小雪： 聊着聊着，聊得火花乱崩了~\n",
      "小王： 我可以表示无言以对嘛！\n",
      "小雪： 不要说话啦，傻子\n",
      "小王： 那我岂不是要默默无闻。\n",
      "小雪： 对啊，\n",
      "小王： 做一个默默无闻的人也挺好的。\n",
      "小雪： 哦了哦了\n",
      "小王： 最近智商有点下滑，聊的不好多多包涵。\n",
      "小雪： 不好就不好啦，说这么大声是要全世界的人都听到吗\n",
      "小王： 人生三大幻觉：手机在震动，她喜欢我，我可以回答你\n",
      "小雪： 我不是大便，我的粉丝也不是苍蝇\n",
      "小王： 时间长你会发现更多的幻觉。\n",
      "小雪： 发现更多的幻觉�？小意思\n",
      "小王： 我想要发现更多的真实。\n",
      "小雪： 要什么？\n",
      "小王： 我想说我词穷了。\n",
      "小雪： 金英雲\n",
      "小王： 不好意思，我不知道怎么回复你。\n",
      "小雪： 怎么不好意思了，脸皮要厚点\n",
      "小王： 我长话短说，这个事，说来话长了啊！\n",
      "小雪： 这日子啊，好无聊哦...\n",
      "小王： 那就说说。\n",
      "小雪： 我还是会想念你。\n",
      "小王： 说一段神话，话说那么一家……\n",
      "小雪： {face:51}话说我还是比较聪明的\n",
      "小王： 你唱的这是小哪吒吧。\n",
      "小雪： 现在的生活太感性，情绪不停泛滥，身心具疲\n",
      "小王： 呜啊呜啊呜啊，感觉今天自己萌萌哒。\n",
      "小雪： 熊熊\n",
      "小王： 你这么萌你家里人知道吗？\n",
      "小雪： 知道了知道了\n",
      "小王： 不知道\n",
      "小雪： 听不懂就算啦，只能说你笨\n",
      "小王： 其实我也不知道\n"
     ]
    }
   ],
   "source": [
    "from time import sleep\n",
    "import requests\n",
    "s = input(\"请输入感兴趣的话题吧：\")\n",
    "while True:\n",
    " resp = requests.post(\"http://www.tuling123.com/openapi/api\",data={\"key\":\"4fede3c4384846b9a7d0456a5e1e2943\", \"info\": s, })\n",
    " resp = resp.json()\n",
    " sleep(1)\n",
    " print('小王：', resp['text'])\n",
    " s = resp['text']\n",
    " resp = requests.get(\"http://api.qingyunke.com/api.php\", {'key': 'free', 'appid': 0, 'msg': s})\n",
    " resp.encoding = 'utf8'\n",
    " resp = resp.json()\n",
    " sleep(1)\n",
    " print('小雪：', resp['content'])"
   ]
  },
  {
   "cell_type": "code",
   "execution_count": null,
   "metadata": {},
   "outputs": [],
   "source": []
  },
  {
   "cell_type": "code",
   "execution_count": null,
   "metadata": {},
   "outputs": [],
   "source": []
  }
 ],
 "metadata": {
  "kernelspec": {
   "display_name": "Python 3",
   "language": "python",
   "name": "python3"
  },
  "language_info": {
   "codemirror_mode": {
    "name": "ipython",
    "version": 3
   },
   "file_extension": ".py",
   "mimetype": "text/x-python",
   "name": "python",
   "nbconvert_exporter": "python",
   "pygments_lexer": "ipython3",
   "version": "3.7.3"
  }
 },
 "nbformat": 4,
 "nbformat_minor": 2
}
