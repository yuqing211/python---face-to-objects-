{
 "cells": [
  {
   "cell_type": "code",
   "execution_count": 2,
   "metadata": {},
   "outputs": [
    {
     "name": "stdout",
     "output_type": "stream",
     "text": [
      "输入字符串: abcdefgHABC123456中华民族\n",
      "包含的数字: ['1', '2', '3', '4', '5', '6']\n",
      "包含的字母: ['a', 'b', 'c', 'd', 'e', 'f', 'g', 'H', 'A', 'B', 'C']\n",
      "包含的汉字: ['中', '华', '民', '族']\n"
     ]
    }
   ],
   "source": [
    "import re\n",
    "str_test='abcdefgHABC123456中华民族'\n",
    " \n",
    "#把正则表达式编译成对象,如果经常使用该对象,此种方式可提高一定效率\n",
    "num_regex = re.compile(r'[0-9]')\n",
    "zimu_regex = re.compile(r'[a-zA-z]')\n",
    "hanzi_regex = re.compile(r'[\\u4E00-\\u9FA5]')\n",
    "\n",
    "print('输入字符串:',str_test)\n",
    "#findall获取字符串中所有匹配的字符\n",
    "num_list = num_regex.findall(str_test)\n",
    "print('包含的数字:',num_list)\n",
    "zimu_list = zimu_regex.findall(str_test)\n",
    "print('包含的字母:',zimu_list)\n",
    "hanzi_list = hanzi_regex.findall(str_test)\n",
    "print('包含的汉字:',hanzi_list)"
   ]
  },
  {
   "cell_type": "code",
   "execution_count": null,
   "metadata": {},
   "outputs": [],
   "source": []
  },
  {
   "cell_type": "code",
   "execution_count": null,
   "metadata": {},
   "outputs": [],
   "source": []
  }
 ],
 "metadata": {
  "kernelspec": {
   "display_name": "Python 3",
   "language": "python",
   "name": "python3"
  },
  "language_info": {
   "codemirror_mode": {
    "name": "ipython",
    "version": 3
   },
   "file_extension": ".py",
   "mimetype": "text/x-python",
   "name": "python",
   "nbconvert_exporter": "python",
   "pygments_lexer": "ipython3",
   "version": "3.7.3"
  }
 },
 "nbformat": 4,
 "nbformat_minor": 2
}
