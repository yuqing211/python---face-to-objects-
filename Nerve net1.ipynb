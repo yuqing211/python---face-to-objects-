{
 "cells": [
  {
   "cell_type": "code",
   "execution_count": 1,
   "metadata": {},
   "outputs": [
    {
     "name": "stdout",
     "output_type": "stream",
     "text": [
      "Output After Training:\n",
      "[[0.00411501]\n",
      " [0.00384688]\n",
      " [0.99675082]\n",
      " [0.99643784]]\n",
      "w0 After Training:\n",
      "[[ 5.05661648]\n",
      " [-0.2814999 ]\n",
      " [-2.84714308]]\n",
      "b0 After Training:\n",
      "[[-2.64189825]\n",
      " [-2.42804605]\n",
      " [ 3.51667531]\n",
      " [ 3.70589715]]\n"
     ]
    }
   ],
   "source": [
    "import numpy as np \n",
    "# sigmoid function \n",
    "def sig(x):\n",
    "    return (1/(1+np.exp(-x))) \n",
    "def deridig(y):\n",
    "    return y*(1-y) \n",
    "# input dataset\n",
    "X = np.array([  [0,0,1],\n",
    "                [0,1,1],\n",
    "                [1,0,1],\n",
    "                [1,1,1] ])\n",
    "# output dataset\n",
    "y = np.array([[0,0,1,1]]).T\n",
    "#\n",
    "np.random.seed(1)\n",
    " \n",
    "# initialize weights randomly with mean 0\n",
    "w0 = 2*np.random.random((3,1)) - 1\n",
    "b0=1\n",
    "lr=1\n",
    "for iter in range(10000):\n",
    "    # forward propagation\n",
    "    l0 = X\n",
    "    l1 = sig(np.dot(l0,w0)+b0)\n",
    "    E_error=(y-l1)*(y-l1)\n",
    "    # update weights\n",
    "    #每次调整的幅度可自行设定\n",
    "    w0 += 1*np.dot(l0.T,2*(y-l1) *deridig(l1))\n",
    "    b0 += 1*2*(y-l1) *deridig(l1)\n",
    "    #print ('w0',w0)\n",
    "    \n",
    "print (\"Output After Training:\")\n",
    "print (l1)\n",
    "print (\"w0 After Training:\")\n",
    "print (w0)\n",
    "print (\"b0 After Training:\")\n",
    "print (b0)\n"
   ]
  },
  {
   "cell_type": "code",
   "execution_count": 11,
   "metadata": {},
   "outputs": [
    {
     "name": "stdout",
     "output_type": "stream",
     "text": [
      "Random starting synaptic weights: \n",
      "[[ 0.93652315]\n",
      " [-0.37315164]\n",
      " [ 0.38464523]]\n",
      "New synaptic weights after training: \n",
      "[[ 9.67320723]\n",
      " [-0.20879939]\n",
      " [-4.62917369]]\n",
      "Considering new situation [1, 0, 0] ->?: \n",
      "[0.99993706]\n"
     ]
    }
   ],
   "source": [
    "from numpy import exp, array, random, dot\n",
    "class NeuralNetwork():\n",
    "    def __init__(self):\n",
    "        # Seed the random number generator, so it generates the same numbers\n",
    "        self.synaptic_weights = 2 * random.random((3, 1)) - 1\n",
    "\n",
    "    # The Sigmoid function, which describes an S shaped curve.\n",
    "    def __sigmoid(self, x):\n",
    "        return 1 / (1 + exp(-x))\n",
    "\n",
    "    # The derivative of the Sigmoid function.    \n",
    "    def __sigmoid_derivative(self, x):\n",
    "        return x * (1 - x)\n",
    "\n",
    "    # train the neural network through a process of trial and error.Adjusting the synaptic weights each time.\n",
    "    def train(self, training_set_inputs, training_set_outputs, number_of_training_iterations):\n",
    "        for iteration in range(number_of_training_iterations):\n",
    "            # Pass the training set through our neural network (a single neuron).\n",
    "            output = self.think(training_set_inputs)\n",
    "            # Calculate the error\n",
    "            error = training_set_outputs - output\n",
    "            # Multiply the error by the input and again by the gradient of the Sigmoid curve.\n",
    "            adjustment = dot(training_set_inputs.T, error * self.\\\n",
    "__sigmoid_derivative(output))\n",
    "            # Adjust the weights.\n",
    "            self.synaptic_weights += adjustment\n",
    "    # The neural network thinks.\n",
    "    def think(self, inputs):\n",
    "        # Pass inputs through our neural network (our single neuron).\n",
    "        return self.__sigmoid(dot(inputs, self.synaptic_weights));\n",
    "if __name__ == \"__main__\":\n",
    "    neural_network = NeuralNetwork()\n",
    "    print(\"Random starting synaptic weights: \")\n",
    "    print(neural_network.synaptic_weights)\n",
    "    # dataset has 3 input values and 1 output value.\n",
    "    training_set_inputs = array([[0, 0, 1], [1, 1, 1], [1, 0, 1], [0, 1, 1]])\n",
    "    training_set_outputs = array([[0, 1, 1, 0]]).T\n",
    "\n",
    "    # Train the neural network 10,000 times,make small adjustments each time.\n",
    "    neural_network.train(training_set_inputs, training_set_outputs, 10000)\n",
    "\n",
    "    print (\"New synaptic weights after training: \")\n",
    "    print( neural_network.synaptic_weights)\n",
    "\n",
    "    # Test the neural network with a new situation.\n",
    "    print (\"Considering new situation [1, 0, 0] ->?: \")\n",
    "    print (neural_network.think(array([1, 0, 0])))\n"
   ]
  },
  {
   "cell_type": "code",
   "execution_count": null,
   "metadata": {},
   "outputs": [],
   "source": []
  }
 ],
 "metadata": {
  "kernelspec": {
   "display_name": "Python 3",
   "language": "python",
   "name": "python3"
  },
  "language_info": {
   "codemirror_mode": {
    "name": "ipython",
    "version": 3
   },
   "file_extension": ".py",
   "mimetype": "text/x-python",
   "name": "python",
   "nbconvert_exporter": "python",
   "pygments_lexer": "ipython3",
   "version": "3.7.3"
  }
 },
 "nbformat": 4,
 "nbformat_minor": 2
}
