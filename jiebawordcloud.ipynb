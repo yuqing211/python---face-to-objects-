{
 "cells": [
  {
   "cell_type": "code",
   "execution_count": null,
   "metadata": {},
   "outputs": [],
   "source": []
  },
  {
   "cell_type": "code",
   "execution_count": 8,
   "metadata": {},
   "outputs": [
    {
     "name": "stdout",
     "output_type": "stream",
     "text": [
      "请输入N：代表输出的数字个数30\n",
      "曹操        1425 \n",
      "孔明        1373 \n",
      "刘备        1223 \n",
      "关羽        779  \n",
      "张飞        348  \n",
      "主公        327  \n",
      "吕布        300  \n",
      "引兵        283  \n",
      "孙权        264  \n",
      "天下        255  \n",
      "赵云        255  \n",
      "东吴        251  \n",
      "不敢        235  \n",
      "魏兵        233  \n",
      "陛下        223  \n",
      "司马懿       221  \n",
      "都督        218  \n",
      "周瑜        217  \n",
      "汉中        212  \n",
      "众将        209  \n",
      "只见        202  \n",
      "后主        200  \n",
      "袁绍        190  \n",
      "蜀兵        190  \n",
      "马超        185  \n",
      "夏侯        184  \n",
      "大叫        180  \n",
      "上马        179  \n",
      "魏延        177  \n",
      "此人        174  \n"
     ]
    },
    {
     "data": {
      "image/png": "[encoded data removed]",
      "text/plain": [
       "<Figure size 432x288 with 1 Axes>"
      ]
     },
     "metadata": {
      "needs_background": "light"
     },
     "output_type": "display_data"
    }
   ],
   "source": [
    "from wordcloud import WordCloud\n",
    "import matplotlib.pyplot as plt\n",
    "import jieba\n",
    "import numpy as np\n",
    "from PIL import Image\n",
    "\n",
    "def txt():  #输出词频前N的词语并且以str的形式返回\n",
    "    txt = open(\"三国演义.txt\",\"r\").read() #打开txt文件,要和python在同一文件夹\n",
    "    words = jieba.lcut(txt)  #精确模式，返回一个列表\n",
    "    counts = {}  #创建字典\n",
    "    excludes = (\"将军\",\"二人\",\"却说\",\"荆州\",\"不可\",\"不能\",\"如此\",\"如何\",\\\n",
    "                \"军士\",\"左右\",\"军马\",\"商议\",\"大喜\",\"今日\",\"次日\",\"于是\",\"一人\",\"不知\",\"人马\") #规定要去除的没意义的词语\n",
    "    for word in words:\n",
    "        if len(word) == 1:                          #把意义相同的词语归一\n",
    "            continue\n",
    "        elif word == \"诸葛亮\" or word == \"孔明曰\":\n",
    "            rword = \"孔明\"\n",
    "        elif word == '关公' or word == '云长':\n",
    "            rword = '关羽'\n",
    "        elif word == '玄德' or word == '玄德曰':\n",
    "            rword = '刘备'\n",
    "        elif word == '孟德' or word == \"丞相\" or word == '曹躁':\n",
    "            rword = '曹操'\n",
    "        else:\n",
    "            rword = word\n",
    "        counts[rword] = counts.get(rword,0) + 1     #字典的运用，统计词频P167\n",
    "    for word in excludes: #删除之前所规定的词语\n",
    "        del(counts[word])\n",
    "    items = list(counts.items())   #返回所有键值对P168\n",
    "    items.sort(key=lambda x:x[1], reverse =True) #降序排序\n",
    "    N =eval(input(\"请输入N：代表输出的数字个数\"))\n",
    "    wordlist=list()\n",
    "    for i in range(N):\n",
    "        word,count = items[i]\n",
    "        print(\"{0:<10}{1:<5}\".format(word,count)) #输出前N个词频的词语\n",
    "        wordlist.append(word)    #把词语word放进一个列表\n",
    "    a=' '.join(wordlist)  #把列表转换成str wl为str类型，所以需要转换\n",
    "    return a \n",
    "\n",
    "def create_word_cloud(filename):\n",
    "    wl = txt() #调用函数获取str！！\n",
    "                                    #图片名字 需一致\n",
    "    #cloud_mask = np.array(Image.open(\"love.jpg\"))#词云的背景图，需要颜色区分度高\n",
    "\n",
    "    wc = WordCloud(\n",
    "        background_color = \"black\", #背景颜色\n",
    "        #mask = cloud_mask,          #背景图cloud_mask\n",
    "        max_words=100,              #最大词语数目\n",
    "        font_path = 'simsun.ttf',   #调用font里的simsun.tff字体，需要提前安装\n",
    "        height=1800,                #设置高度\n",
    "        width=1600,                 #设置宽度\n",
    "        max_font_size=1000,         #最大字体号\n",
    "        random_state=1000,          #设置随机生成状态，即有多少种配色方案\n",
    "        )\n",
    "\n",
    "    myword = wc.generate(wl)  # 用 wl的词语 生成词云\n",
    "    # 展示词云图\n",
    "    plt.imshow(myword)\n",
    "    plt.axis(\"off\")\n",
    "    plt.show()\n",
    "    wc.to_file('1.jpg')  # 把词云保存下当前目录（与此py文件目录相同）\n",
    "\n",
    "\n",
    "\n",
    " \n",
    " \n",
    "if __name__ == '__main__':\n",
    "    create_word_cloud('三国演义')"
   ]
  },
  {
   "cell_type": "code",
   "execution_count": null,
   "metadata": {},
   "outputs": [],
   "source": []
  }
 ],
 "metadata": {
  "kernelspec": {
   "display_name": "Python 3",
   "language": "python",
   "name": "python3"
  },
  "language_info": {
   "codemirror_mode": {
    "name": "ipython",
    "version": 3
   },
   "file_extension": ".py",
   "mimetype": "text/x-python",
   "name": "python",
   "nbconvert_exporter": "python",
   "pygments_lexer": "ipython3",
   "version": "3.7.3"
  }
 },
 "nbformat": 4,
 "nbformat_minor": 2
}
