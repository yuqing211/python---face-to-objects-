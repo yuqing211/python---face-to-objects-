{
 "cells": [
  {
   "cell_type": "code",
   "execution_count": 12,
   "metadata": {},
   "outputs": [
    {
     "name": "stdout",
     "output_type": "stream",
     "text": [
      "Digital lower limit of guess number:\n",
      "10\n",
      "Digital upper limit of guess number:\n",
      "12\n",
      "WARNING: You have【3】 chances you guess --&&>>--【4】 chances left now:\n",
      "\n",
      "Please guess a int_number:\n",
      "11\n",
      "Congratulation!! That' right!\n"
     ]
    }
   ],
   "source": [
    "# 重新猜数字\n",
    "import random\n",
    " \n",
    "def judge_num(num, num_random):\n",
    "    if num > num_random:\n",
    "        print('It\\'s too big')\n",
    "        return 1\n",
    "    elif num < num_random:\n",
    "        print('It\\'s too small')\n",
    "        return 1\n",
    "    else:\n",
    "        print(\"Congratulation!! That\\' right!\")\n",
    "        return 0\n",
    " \n",
    "# 产生随机数\n",
    "num_start = int(input('Digital lower limit of guess number:\\n'))\n",
    "num_end = int(input('Digital upper limit of guess number:\\n'))\n",
    "num_random = random.randint(num_start, num_end)\n",
    " \n",
    "# 参数初始化\n",
    "result = 1      # 判断结果\n",
    "i = 0           # 循环次数\n",
    "frequency = 3   # 循环限制次数\n",
    " \n",
    "# 提示总猜测次数、剩余次数\n",
    "print('WARNING: You have【{}】 chances you guess '.format(frequency), end = '--&&>>--')\n",
    "print('【{}】 chances left now:\\n'.format(frequency - i +1))\n",
    " \n",
    "while result and i != frequency:\n",
    "    # 猜数字\n",
    "    num = int(input('Please guess a int_number:\\n'))\n",
    "    result = judge_num(num, num_random)\n",
    "    i += 1\n"
   ]
  },
  {
   "cell_type": "markdown",
   "metadata": {},
   "source": []
  }
 ],
 "metadata": {
  "kernelspec": {
   "display_name": "Python 3",
   "language": "python",
   "name": "python3"
  },
  "language_info": {
   "codemirror_mode": {
    "name": "ipython",
    "version": 3
   },
   "file_extension": ".py",
   "mimetype": "text/x-python",
   "name": "python",
   "nbconvert_exporter": "python",
   "pygments_lexer": "ipython3",
   "version": "3.7.3"
  }
 },
 "nbformat": 4,
 "nbformat_minor": 2
}
