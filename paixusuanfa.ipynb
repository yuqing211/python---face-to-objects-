{
 "cells": [
  {
   "cell_type": "code",
   "execution_count": 9,
   "metadata": {},
   "outputs": [
    {
     "name": "stdout",
     "output_type": "stream",
     "text": [
      " Before Sort: 125694520 \n",
      " After  Sort: 012245569\n"
     ]
    }
   ],
   "source": [
    "#插入排序：选定第一个元素作为已排序的数列（假设为Arr），\n",
    "#判断下一个元素，与Arr中元素从后往前比较，如果比某个元素大，则插入到该元素之后（Arr元素相应增加）；\n",
    "#如果比Arr中的元素都小，则插入至最开始位置（Arr元素相应增加）\n",
    "def InserSort(sourceStr):\n",
    "    l = list(sourceStr)\n",
    "    cnt = len(l)\n",
    "    iCur = 1\n",
    "    while iCur < cnt :\n",
    "        i = iCur-1\n",
    "        while i >= 0:\n",
    "            iFlg = False\n",
    "            if l[iCur] >= l[i]:\n",
    "                iFlg = True\n",
    "                l.insert(i + 1,l[iCur])\n",
    "                l.pop(iCur+1)\n",
    "                break\n",
    "            i -= 1\n",
    "        if iFlg == False :\n",
    "            l.insert(0,l[iCur])\n",
    "            l.pop(iCur+1)\n",
    "        iCur += 1\n",
    "    return ''.join(l)\n",
    "\n",
    "\n",
    "if __name__ == '__main__':\n",
    "    myStr = '125694520'\n",
    "    # print(' Before Sort: %s \\n After  Sort: %s' %(myStr,BubbleSort(myStr)) )\n",
    "    # print(' Before Sort: %s \\n After  Sort: %s' %(myStr,SelectSort(myStr)) )\n",
    "    print(' Before Sort: %s \\n After  Sort: %s' %(myStr,InserSort(myStr)) )"
   ]
  },
  {
   "cell_type": "code",
   "execution_count": 6,
   "metadata": {},
   "outputs": [
    {
     "name": "stdout",
     "output_type": "stream",
     "text": [
      " Before Sort: 125694520 \n",
      " After  Sort: 012245569\n"
     ]
    }
   ],
   "source": [
    "#选择排序\n",
    "#每次从字符串中选择最小的值，放到新的列表中，选完一个，原字符串就去掉最小的那个；直到选完，新的列表也组成了\n",
    "\n",
    "def SelectSort(sourceStr):\n",
    "    oldList = list(sourceStr)\n",
    "    newList = []\n",
    "    maxStr = ''\n",
    "    while oldList!=[]:\n",
    "        maxStr = min(oldList)\n",
    "        newList.append(maxStr)\n",
    "        oldList.remove(maxStr)\n",
    "    return ''.join(newList)\n",
    "\n",
    "if __name__ == '__main__':\n",
    "    myStr = '125694520'\n",
    "    # print(' Before Sort: %s \\n After  Sort: %s' %(myStr,BubbleSort(myStr)) )\n",
    "    print(' Before Sort: %s \\n After  Sort: %s' %(myStr,SelectSort(myStr)) )"
   ]
  },
  {
   "cell_type": "code",
   "execution_count": 7,
   "metadata": {},
   "outputs": [
    {
     "name": "stdout",
     "output_type": "stream",
     "text": [
      " Before Sort: 125694520 \n",
      " After  Sort: 012245569\n"
     ]
    }
   ],
   "source": [
    "#冒泡排序：比较相邻两个字符，如果左边大于右边，则交换位置，遍历一遍字符后，\n",
    "#则最大的肯定在最右边；继续循环处理剩下的字符（最右边的不用再比较了，已经最大了）\n",
    "\n",
    "def BubbleSort(sourceStr):\n",
    "    l = list(sourceStr)\n",
    "    cnt = len(l)-1\n",
    "\n",
    "    while cnt >= 0:\n",
    "        i = 0\n",
    "        j = 0\n",
    "        while i < cnt:\n",
    "            j = i + 1\n",
    "            if l[i] > l[j]:\n",
    "                tmp = l[j]\n",
    "                l[j] = l[i]\n",
    "                l[i] = tmp\n",
    "            i+=1\n",
    "        cnt-=1\n",
    "    return ''.join(l)\n",
    "\n",
    "if __name__ == '__main__':\n",
    "    myStr = '125694520'\n",
    "    print(' Before Sort: %s \\n After  Sort: %s' %(myStr,BubbleSort(myStr)) )"
   ]
  },
  {
   "cell_type": "code",
   "execution_count": 8,
   "metadata": {},
   "outputs": [
    {
     "name": "stdout",
     "output_type": "stream",
     "text": [
      "[-1, 0, 2, 6, 25, 71, 99]\n"
     ]
    }
   ],
   "source": [
    "#快速排序：一种特殊的冒泡排序。一个数列，假如取首数字为基准值，则从最右边（下标为right）往左寻找，直至找到一个比基准值小的数，交换位置；\n",
    "#从最左边（下标为left）+1的位置往右寻找，直至找到一个大于基准值的数，再次交换位置；\n",
    "#循环往复，直至left等于right，则一次分区完成（基准值左边都比他小，右边都比他大）。\n",
    "#然后进行递归，对左边和右边依次继续分区，直至分区长度为1。\n",
    "\n",
    "def division(l,left,right):\n",
    "    while left < right:\n",
    "        while left < right and l[right] >= l[left]:\n",
    "            right -= 1\n",
    "        if left < right:\n",
    "            tmp = l[left]\n",
    "            l[left] = l[right]\n",
    "            l[right] = tmp\n",
    "            left += 1\n",
    "        while left < right and l[left] <= l[right]:\n",
    "            left += 1\n",
    "        if left < right:\n",
    "            tmp = l[left]\n",
    "            l[left] = l[right]\n",
    "            l[right] = tmp\n",
    "            right -= 1\n",
    "        return left\n",
    "\n",
    "\n",
    "def fast_sort(l,left,right):\n",
    "    if left < right:\n",
    "        pivot = division(l, left, right)\n",
    "        fast_sort(l,left,pivot-1)\n",
    "        fast_sort(l,pivot+1,right)\n",
    "    return l\n",
    "\n",
    "\n",
    "if __name__ == '__main__':\n",
    "    l = [71,6,0,25,2,99,-1]\n",
    "    print(fast_sort(l,0,l.__len__()-1))"
   ]
  },
  {
   "cell_type": "code",
   "execution_count": null,
   "metadata": {},
   "outputs": [],
   "source": []
  }
 ],
 "metadata": {
  "kernelspec": {
   "display_name": "Python 3",
   "language": "python",
   "name": "python3"
  },
  "language_info": {
   "codemirror_mode": {
    "name": "ipython",
    "version": 3
   },
   "file_extension": ".py",
   "mimetype": "text/x-python",
   "name": "python",
   "nbconvert_exporter": "python",
   "pygments_lexer": "ipython3",
   "version": "3.7.3"
  }
 },
 "nbformat": 4,
 "nbformat_minor": 2
}
