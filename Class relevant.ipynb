{
 "cells": [
  {
   "cell_type": "code",
   "execution_count": 1,
   "metadata": {},
   "outputs": [
    {
     "name": "stdout",
     "output_type": "stream",
     "text": [
      "My value is: 6\n"
     ]
    }
   ],
   "source": [
    "class Calculator:\n",
    "    def calculate(self, expression):\n",
    "        return eval(expression)\n",
    "        \n",
    "class Talker:\n",
    "    def talk(self, value):\n",
    "        print('My value is:', value)\n",
    "        \n",
    "class TalkingCalculator:\n",
    "    def __init__(self):\n",
    "        self.__calculator = Calculator()\n",
    "        self.__talker = Talker()\n",
    "        self.__value = None\n",
    "        \n",
    "    def calculate(self, expression):\n",
    "        self.__value = self.__calculator.calculate(expression)\n",
    "    \n",
    "    def talk(self):\n",
    "        self.__talker.talk(self.__value)\n",
    "    \n",
    "\n",
    "tc = TalkingCalculator()\n",
    "tc.calculate('1 + 2 + 3')\n",
    "tc.talk()"
   ]
  },
  {
   "cell_type": "code",
   "execution_count": 2,
   "metadata": {},
   "outputs": [
    {
     "name": "stdout",
     "output_type": "stream",
     "text": [
      "My value is: 6\n"
     ]
    }
   ],
   "source": [
    "class Calculator:\n",
    "    def calculate(self, expression):\n",
    "        return eval(expression)\n",
    "        \n",
    "class Talker:\n",
    "    def talk(self, value):\n",
    "        print('My value is:', value)\n",
    "        \n",
    "class TalkingCalculator(Calculator, Talker):\n",
    "    pass\n",
    "\n",
    "tc = TalkingCalculator()\n",
    "result = tc.calculate('1 + 2 + 3')\n",
    "tc.talk(result)"
   ]
  },
  {
   "cell_type": "code",
   "execution_count": 3,
   "metadata": {},
   "outputs": [
    {
     "name": "stdout",
     "output_type": "stream",
     "text": [
      "Hello, I'm Zhang San.\n",
      "Hello, I'm Zhang San.\n",
      "My score is: 100\n"
     ]
    }
   ],
   "source": [
    "class Person:\n",
    "    '''This class can be used to represent a person. '''\n",
    "   \n",
    "    def __init__(self, name:str=None):\n",
    "        self.set_name(name)\n",
    "    \n",
    "    def set_name(self, name:str):\n",
    "        '''Set the name of person. name must be a str. '''\n",
    "        # assert(isinstance(name, str))\n",
    "        if isinstance(name, str):\n",
    "            self.__name = name\n",
    "        else:\n",
    "            print('Not a valid name.')\n",
    "\n",
    "    def get_name(self)->str:\n",
    "        ''' Returns the name of the person.'''\n",
    "        return self.__name\n",
    "    \n",
    "    def __greet_once(self):\n",
    "        print(\"Hello, I'm {}.\".format(self.__name))\n",
    "\n",
    "    def greet(self):\n",
    "        self.__greet_once()\n",
    "        self.__greet_once()\n",
    "        \n",
    "class Student(Person):\n",
    "    def __init__(self, name=None):\n",
    "        Person.__init__(self, name)\n",
    "        self.__score = 60\n",
    "        \n",
    "    def set_score(self, score):\n",
    "        self.__score = score\n",
    "        \n",
    "    def get_score(self):\n",
    "        return self.__score\n",
    "    \n",
    "    def show_score(self):\n",
    "        print('My score is: {}'.format(self.__score))\n",
    "    \n",
    "    def greet(self):\n",
    "        Person.greet(self)\n",
    "        self.show_score()\n",
    "\n",
    "zs = Student(\"Zhang San\")\n",
    "# zs.set_name()\n",
    "zs.set_score(100)\n",
    "zs.greet()\n",
    "# zs.show_score()"
   ]
  },
  {
   "cell_type": "code",
   "execution_count": 4,
   "metadata": {},
   "outputs": [
    {
     "name": "stdout",
     "output_type": "stream",
     "text": [
      "Hello, I'm Zhang San.\n",
      "Hello, I'm Zhang San.\n",
      "Hello, I'm Li Si.\n",
      "Hello, I'm Li Si.\n",
      "My score is: 100\n"
     ]
    }
   ],
   "source": [
    "people = list()\n",
    "zs = Person('Zhang San')\n",
    "ls = Student('Li Si')\n",
    "ls.set_score(100)\n",
    "people.append(zs)\n",
    "people.append(ls)\n",
    "\n",
    "for p in people:\n",
    "    p.greet()"
   ]
  },
  {
   "cell_type": "code",
   "execution_count": 5,
   "metadata": {},
   "outputs": [
    {
     "data": {
      "text/plain": [
       "[1, 2, 3]"
      ]
     },
     "execution_count": 5,
     "metadata": {},
     "output_type": "execute_result"
    }
   ],
   "source": [
    "class Filter:\n",
    "    def __init__(self):\n",
    "        self.blocked = []\n",
    "        \n",
    "    def filter(self, sequence):\n",
    "        return [x for x in sequence if x not in self.blocked]\n",
    "    \n",
    "#class SpamFilter(Filter):\n",
    "#    def __init__(self):\n",
    "#        self.blocked = ['SPAM']\n",
    "        \n",
    "f = Filter()\n",
    "f.filter([1, 2, 3])"
   ]
  },
  {
   "cell_type": "code",
   "execution_count": 6,
   "metadata": {},
   "outputs": [
    {
     "data": {
      "text/plain": [
       "['bacon', 'eggs', 'sausage']"
      ]
     },
     "execution_count": 6,
     "metadata": {},
     "output_type": "execute_result"
    }
   ],
   "source": [
    "sf = Filter()\n",
    "sf.blocked = ['SPAM']\n",
    "sf.filter(['SPAM', 'SPAM', 'bacon', 'eggs', 'sausage', 'SPAM'])"
   ]
  },
  {
   "cell_type": "code",
   "execution_count": 7,
   "metadata": {},
   "outputs": [
    {
     "name": "stdout",
     "output_type": "stream",
     "text": [
      "Hello, I'm Zhang San.\n",
      "Hello, I'm Li Si.\n"
     ]
    }
   ],
   "source": [
    "class Person:\n",
    "    def set_name(self, name):\n",
    "        self.name = name\n",
    "        \n",
    "    def get_name(self):\n",
    "        return self.name\n",
    "    \n",
    "    def greet(self):\n",
    "        print(\"Hello, I'm {}.\".format(self.name))\n",
    "        \n",
    "zs = Person()\n",
    "zs.set_name('Zhang San')\n",
    "zs.greet()\n",
    "ls = Person()\n",
    "ls.set_name('Li Si')\n",
    "ls.greet()"
   ]
  },
  {
   "cell_type": "code",
   "execution_count": null,
   "metadata": {},
   "outputs": [],
   "source": []
  }
 ],
 "metadata": {
  "kernelspec": {
   "display_name": "Python 3",
   "language": "python",
   "name": "python3"
  },
  "language_info": {
   "codemirror_mode": {
    "name": "ipython",
    "version": 3
   },
   "file_extension": ".py",
   "mimetype": "text/x-python",
   "name": "python",
   "nbconvert_exporter": "python",
   "pygments_lexer": "ipython3",
   "version": "3.7.3"
  }
 },
 "nbformat": 4,
 "nbformat_minor": 2
}
